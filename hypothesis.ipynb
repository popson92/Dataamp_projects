{
 "cells": [
  {
   "cell_type": "code",
   "execution_count": 1,
   "metadata": {},
   "outputs": [],
   "source": [
    "import pandas as pd\n",
    "import numpy as np\n",
    "import matplotlib as plt"
   ]
  },
  {
   "cell_type": "code",
   "execution_count": 2,
   "metadata": {},
   "outputs": [],
   "source": [
    "from scipy.stats import norm, t"
   ]
  },
  {
   "cell_type": "code",
   "execution_count": 14,
   "metadata": {},
   "outputs": [],
   "source": [
    "import pingouin\n",
    "import seaborn as sns"
   ]
  },
  {
   "cell_type": "code",
   "execution_count": 3,
   "metadata": {},
   "outputs": [],
   "source": [
    "stackOVerF = pd.read_feather(\"C:/Users/User/Downloads/Data Ana/HypothesisD/stack_overflow.feather\")"
   ]
  },
  {
   "cell_type": "code",
   "execution_count": 4,
   "metadata": {},
   "outputs": [],
   "source": [
    "late_shipments = pd.read_feather(\"C:/Users/User/Downloads/Data Ana/HypothesisD/late_shipments.feather\")"
   ]
  },
  {
   "cell_type": "code",
   "execution_count": 5,
   "metadata": {},
   "outputs": [],
   "source": [
    "dem_votes_potus_12_16 = pd.read_feather(\"C:/Users/User/Downloads/Data Ana/HypothesisD/dem_votes_potus_12_16.feather\")"
   ]
  },
  {
   "cell_type": "markdown",
   "metadata": {},
   "source": [
    "#### Republic Can Votes"
   ]
  },
  {
   "cell_type": "code",
   "execution_count": 6,
   "metadata": {},
   "outputs": [],
   "source": [
    "dem_votes_potus_12_16['diff'] = dem_votes_potus_12_16['dem_percent_12'] - dem_votes_potus_12_16['dem_percent_16']"
   ]
  },
  {
   "cell_type": "code",
   "execution_count": null,
   "metadata": {},
   "outputs": [],
   "source": [
    "# Find the mean of the diff column\n",
    "xbar_diff = dem_votes_potus_12_16['diff'].mean()\n",
    "s_diff = dem_votes_potus_12_16['diff'].std()\n",
    "print(xbar_diff, s_diff)"
   ]
  },
  {
   "cell_type": "code",
   "execution_count": null,
   "metadata": {},
   "outputs": [],
   "source": [
    "\n",
    "dem_votes_potus_12_16['diff'].hist(bins=20)"
   ]
  },
  {
   "cell_type": "code",
   "execution_count": 11,
   "metadata": {},
   "outputs": [
    {
     "name": "stdout",
     "output_type": "stream",
     "text": [
      "                T  dof alternative          p-val         CI95%   cohen-d  \\\n",
      "T-test  30.298384  499   two-sided  3.600634e-115  [6.39, 7.27]  1.354985   \n",
      "\n",
      "              BF10  power  \n",
      "T-test  2.246e+111    1.0  \n"
     ]
    }
   ],
   "source": [
    "# Conduct a t-test on diff\n",
    "test_results = pingouin.ttest(x=dem_votes_potus_12_16['diff'], y=0, alternative=\"two-sided\")\n",
    "\n",
    "# Conduct a paired t-test on dem_percent_12 and dem_percent_16\n",
    "paired_test_results = pingouin.ttest(x=sample_dem_data['dem_percent_12'], \n",
    "                              y=sample_dem_data['dem_percent_16'], paired=True,\n",
    "                              alternative=\"two-sided\")\n",
    "                              \n",
    "# Print the test results\n",
    "print(test_results)"
   ]
  },
  {
   "cell_type": "markdown",
   "metadata": {},
   "source": [
    "## Anova test"
   ]
  },
  {
   "cell_type": "markdown",
   "metadata": {},
   "source": [
    "##### late shipment"
   ]
  },
  {
   "cell_type": "code",
   "execution_count": null,
   "metadata": {},
   "outputs": [],
   "source": [
    "# Calculate the mean pack_price for each shipment_mode\n",
    "xbar_pack_by_mode = late_shipments.groupby('shipment_mode')['pack_price'].mean()\n",
    "\n",
    "# Calculate the standard deviation of the pack_price for each shipment_mode\n",
    "s_pack_by_mode = late_shipments.groupby(\"shipment_mode\")['pack_price'].std()\n",
    "\n",
    "sns.boxplot(x=\"pack_price\", y=\"shipment_mode\", data=late_shipments)\n",
    "\n",
    "plt.show()\n",
    "# Run an ANOVA for pack_price across shipment_mode\n",
    "anova_results = pingouin.anova(data=late_shipments, dv='pack_price', between='shipment_mode')\n",
    "\n",
    "# Modify the pairwise t-tests to use Bonferroni p-value adjustment\n",
    "pairwise_results = pingouin.pairwise_tests(data=late_shipments, \n",
    "                                           dv=\"pack_price\",\n",
    "                                           between=\"shipment_mode\",\n",
    "                                           padjust=\"bonf\")\n",
    "\n",
    "# Print pairwise_results\n",
    "print(pairwise_results)\n",
    "# Print the grouped means\n",
    "\n",
    "print(xbar_pack_by_mode)"
   ]
  },
  {
   "cell_type": "code",
   "execution_count": null,
   "metadata": {},
   "outputs": [],
   "source": []
  },
  {
   "cell_type": "markdown",
   "metadata": {},
   "source": [
    "#### StackOverflow Testings"
   ]
  },
  {
   "cell_type": "code",
   "execution_count": 5,
   "metadata": {},
   "outputs": [],
   "source": [
    "boot_strapDist = []\n",
    "for i in range(10000):\n",
    "    boot_strapDist.append(\n",
    "        np.mean(stackOVerF.sample(frac=1, replace=True)['converted_comp'])\n",
    "    )"
   ]
  },
  {
   "cell_type": "markdown",
   "metadata": {},
   "source": [
    "#### Late shipment Tests"
   ]
  },
  {
   "cell_type": "code",
   "execution_count": 6,
   "metadata": {},
   "outputs": [],
   "source": [
    "late_prop_samp = (late_shipments['late'] == 'Yes').mean()"
   ]
  },
  {
   "cell_type": "code",
   "execution_count": 15,
   "metadata": {},
   "outputs": [],
   "source": [
    "late_shipments['ProsHelper'] = late_shipments['late'] == 'Yes'"
   ]
  },
  {
   "cell_type": "code",
   "execution_count": 8,
   "metadata": {},
   "outputs": [],
   "source": [
    "\n",
    "late_bootStrapDis = []\n",
    "for i in range(5000):\n",
    "    late_bootStrapDis.append(\n",
    "        np.mean(late_shipments.sample(frac=1, replace=True)['ProsHelper'])\n",
    "    )"
   ]
  },
  {
   "cell_type": "markdown",
   "metadata": {},
   "source": [
    "#### Calculating z - score"
   ]
  },
  {
   "cell_type": "code",
   "execution_count": 13,
   "metadata": {},
   "outputs": [
    {
     "name": "stdout",
     "output_type": "stream",
     "text": [
      "0.13246842393559696 0.44730689847132943\n"
     ]
    }
   ],
   "source": [
    "# Hypothesize that the proportion is 6%\n",
    "late_prop_hyp = 0.06\n",
    "\n",
    "# Calculate the standard error\n",
    "std_error = np.std(late_bootStrapDis, ddof=1)\n",
    "\n",
    "# Find z-score of late_prop_samp\n",
    "z_score = (late_prop_samp - late_prop_hyp)/std_error\n",
    "\n",
    "# Print z_score\n",
    "p_val = 1 - norm.cdf(z_score, loc=0, scale=1)\n",
    "print(z_score, p_val)"
   ]
  },
  {
   "cell_type": "markdown",
   "metadata": {},
   "source": [
    "### Using one proportion"
   ]
  },
  {
   "cell_type": "code",
   "execution_count": null,
   "metadata": {},
   "outputs": [],
   "source": [
    "# Hypothesize that the proportion of late shipments is 6%\n",
    "p_0 = 0.06\n",
    "\n",
    "# Calculate the sample proportion of late shipments\n",
    "p_hat = (late_shipments['late'] == \"Yes\").mean()\n",
    "\n",
    "# Calculate the sample size\n",
    "n = len(late_shipments)\n",
    "\n",
    "# Calculate the numerator and denominator of the test statistic\n",
    "numerator = p_hat - p_0\n",
    "denominator = np.sqrt(p_0 * (1 - p_0) / n)\n",
    "\n",
    "# Calculate the test statistic\n",
    "z_score = numerator / denominator\n",
    "\n",
    "# Calculate the p-value from the z-score\n",
    "p_value = 1 - norm.cdf(z_score)\n",
    "# Print the p-value\n",
    "print(p_value)"
   ]
  },
  {
   "cell_type": "code",
   "execution_count": 45,
   "metadata": {},
   "outputs": [],
   "source": [
    "p_por = late_shipments[late_shipments['late'] == 'Yes'].groupby(['freight_cost_groups', 'late']).std()"
   ]
  },
  {
   "cell_type": "code",
   "execution_count": 46,
   "metadata": {},
   "outputs": [
    {
     "data": {
      "text/html": [
       "<div>\n",
       "<style scoped>\n",
       "    .dataframe tbody tr th:only-of-type {\n",
       "        vertical-align: middle;\n",
       "    }\n",
       "\n",
       "    .dataframe tbody tr th {\n",
       "        vertical-align: top;\n",
       "    }\n",
       "\n",
       "    .dataframe thead th {\n",
       "        text-align: right;\n",
       "    }\n",
       "</style>\n",
       "<table border=\"1\" class=\"dataframe\">\n",
       "  <thead>\n",
       "    <tr style=\"text-align: right;\">\n",
       "      <th></th>\n",
       "      <th></th>\n",
       "      <th>id</th>\n",
       "      <th>late_delivery</th>\n",
       "      <th>unit_of_measure_per_pack</th>\n",
       "      <th>line_item_quantity</th>\n",
       "      <th>line_item_value</th>\n",
       "      <th>pack_price</th>\n",
       "      <th>unit_price</th>\n",
       "      <th>weight_kilograms</th>\n",
       "      <th>freight_cost_usd</th>\n",
       "      <th>line_item_insurance_usd</th>\n",
       "      <th>ProsHelper</th>\n",
       "    </tr>\n",
       "    <tr>\n",
       "      <th>freight_cost_groups</th>\n",
       "      <th>late</th>\n",
       "      <th></th>\n",
       "      <th></th>\n",
       "      <th></th>\n",
       "      <th></th>\n",
       "      <th></th>\n",
       "      <th></th>\n",
       "      <th></th>\n",
       "      <th></th>\n",
       "      <th></th>\n",
       "      <th></th>\n",
       "      <th></th>\n",
       "    </tr>\n",
       "  </thead>\n",
       "  <tbody>\n",
       "    <tr>\n",
       "      <th>expensive</th>\n",
       "      <th>Yes</th>\n",
       "      <td>22160.740187</td>\n",
       "      <td>0.0</td>\n",
       "      <td>40.557239</td>\n",
       "      <td>31191.457022</td>\n",
       "      <td>206136.167946</td>\n",
       "      <td>38.578512</td>\n",
       "      <td>0.388325</td>\n",
       "      <td>2401.284638</td>\n",
       "      <td>15913.016376</td>\n",
       "      <td>334.579319</td>\n",
       "      <td>0.0</td>\n",
       "    </tr>\n",
       "    <tr>\n",
       "      <th>reasonable</th>\n",
       "      <th>Yes</th>\n",
       "      <td>22890.163111</td>\n",
       "      <td>0.0</td>\n",
       "      <td>68.529191</td>\n",
       "      <td>29695.766742</td>\n",
       "      <td>187243.958299</td>\n",
       "      <td>16.621680</td>\n",
       "      <td>0.174317</td>\n",
       "      <td>3011.154872</td>\n",
       "      <td>1425.285071</td>\n",
       "      <td>404.738017</td>\n",
       "      <td>0.0</td>\n",
       "    </tr>\n",
       "  </tbody>\n",
       "</table>\n",
       "</div>"
      ],
      "text/plain": [
       "                                    id  late_delivery  \\\n",
       "freight_cost_groups late                                \n",
       "expensive           Yes   22160.740187            0.0   \n",
       "reasonable          Yes   22890.163111            0.0   \n",
       "\n",
       "                          unit_of_measure_per_pack  line_item_quantity  \\\n",
       "freight_cost_groups late                                                 \n",
       "expensive           Yes                  40.557239        31191.457022   \n",
       "reasonable          Yes                  68.529191        29695.766742   \n",
       "\n",
       "                          line_item_value  pack_price  unit_price  \\\n",
       "freight_cost_groups late                                            \n",
       "expensive           Yes     206136.167946   38.578512    0.388325   \n",
       "reasonable          Yes     187243.958299   16.621680    0.174317   \n",
       "\n",
       "                          weight_kilograms  freight_cost_usd  \\\n",
       "freight_cost_groups late                                       \n",
       "expensive           Yes        2401.284638      15913.016376   \n",
       "reasonable          Yes        3011.154872       1425.285071   \n",
       "\n",
       "                          line_item_insurance_usd  ProsHelper  \n",
       "freight_cost_groups late                                       \n",
       "expensive           Yes                334.579319         0.0  \n",
       "reasonable          Yes                404.738017         0.0  "
      ]
     },
     "execution_count": 46,
     "metadata": {},
     "output_type": "execute_result"
    }
   ],
   "source": [
    "p_por"
   ]
  },
  {
   "cell_type": "code",
   "execution_count": 51,
   "metadata": {},
   "outputs": [],
   "source": [
    "ns = late_shipments.groupby('freight_cost_groups')['late'].count()"
   ]
  },
  {
   "cell_type": "markdown",
   "metadata": {},
   "source": [
    "#### test of two propotion test"
   ]
  },
  {
   "cell_type": "code",
   "execution_count": null,
   "metadata": {},
   "outputs": [],
   "source": [
    "# Calculate the pooled estimate of the population proportion\n",
    "p_hat = (p_hats[\"reasonable\"] * ns[\"reasonable\"] + p_hats[\"expensive\"] * ns[\"expensive\"]) / (ns[\"reasonable\"] + ns[\"expensive\"])\n",
    "\n",
    "# Calculate p_hat one minus p_hat\n",
    "p_hat_times_not_p_hat = p_hat * (1 - p_hat)\n",
    "\n",
    "# Divide this by each of the sample sizes and then sum\n",
    "p_hat_times_not_p_hat_over_ns = p_hat_times_not_p_hat / ns[\"expensive\"] + p_hat_times_not_p_hat / ns[\"reasonable\"]\n",
    "\n",
    "# Calculate the standard error\n",
    "std_error = np.sqrt(p_hat_times_not_p_hat_over_ns)\n",
    "\n",
    "# Calculate the z-score\n",
    "z_score = (p_hats[\"expensive\"] - p_hats[\"reasonable\"]) / std_error\n",
    "\n",
    "# Calculate the p-value from the z-score\n",
    "p_value = 1- norm.cdf(z_score)\n",
    "\n",
    "# Print p_value\n",
    "print(p_value)"
   ]
  },
  {
   "cell_type": "code",
   "execution_count": null,
   "metadata": {},
   "outputs": [],
   "source": [
    "# Count the late column values for each freight_cost_group\n",
    "late_by_freight_cost_group = late_shipments.groupby(\"freight_cost_group\")['late'].value_counts()\n",
    "\n",
    "# Create an array of the \"Yes\" counts for each freight_cost_group\n",
    "success_counts = np.array([\n",
    "late_by_freight_cost_group[:][1],\n",
    "late_by_freight_cost_group[:][3]])\n",
    "\n",
    "# Create an array of the total number of rows in each freight_cost_group\n",
    "n = np.array([late_shipments.groupby('freight_cost_group')['late'].count()[0], late_shipments.groupby('freight_cost_group')['late'].count()[1]])\n",
    "\n",
    "# Run a z-test on the two proportions\n",
    "stat, p_value = proportions_ztest(count=success_counts,nobs=n, alternative=\"larger\")\n",
    "\n",
    "\n",
    "# Print the results\n",
    "print(stat, p_value)"
   ]
  },
  {
   "cell_type": "markdown",
   "metadata": {},
   "source": [
    "#### Chi Square Independent Test"
   ]
  },
  {
   "cell_type": "code",
   "execution_count": null,
   "metadata": {},
   "outputs": [],
   "source": [
    "# Proportion of freight_cost_group grouped by vendor_inco_term\n",
    "props = late_shipments.groupby('vendor_inco_term')['freight_cost_group'].value_counts(normalize=True)\n",
    "\n",
    "# Convert props to wide format\n",
    "wide_props = props.unstack()\n",
    "\n",
    "# Proportional stacked bar plot of freight_cost_group vs. vendor_inco_term\n",
    "wide_props.plot(kind=\"bar\", stacked=True)\n",
    "plt.show()\n",
    "\n",
    "# Determine if freight_cost_group and vendor_inco_term are independent\n",
    "expected, observed, stats = pingouin.chi2_independence(data=late_shipments, x=\"freight_cost_group\", y=\"vendor_inco_term\")\n",
    "\n",
    "# Print results\n",
    "print(stats[stats['test'] == 'pearson']) "
   ]
  },
  {
   "cell_type": "code",
   "execution_count": null,
   "metadata": {},
   "outputs": [],
   "source": [
    "# Find the number of rows in late_shipments\n",
    "n_total = len(late_shipments)\n",
    "\n",
    "# Create n column that is prop column * n_total\n",
    "hypothesized[\"n\"] = hypothesized[\"prop\"] * n_total\n",
    "\n",
    "# Plot a red bar graph of n vs. vendor_inco_term for incoterm_counts\n",
    "plt.bar(incoterm_counts['vendor_inco_term'], incoterm_counts['n'], color=\"red\", label=\"Observed\")\n",
    "\n",
    "# Add a blue bar plot for the hypothesized counts\n",
    "plt.bar(hypothesized['vendor_inco_term'], hypothesized[\"n\"],color=\"b\", label=\"Hypothesized\", alpha=0.5)\n",
    "plt.legend()\n",
    "plt.show()\n",
    "\n",
    "# Perform a goodness of fit test on the incoterm counts n\n",
    "gof_test = chisquare(f_obs=incoterm_counts[\"n\"], f_exp=hypothesized[\"n\"])\n",
    "\n",
    "\n",
    "# Print gof_test results\n",
    "print(gof_test)"
   ]
  },
  {
   "cell_type": "code",
   "execution_count": null,
   "metadata": {},
   "outputs": [],
   "source": []
  },
  {
   "cell_type": "code",
   "execution_count": 52,
   "metadata": {},
   "outputs": [
    {
     "data": {
      "text/plain": [
       "freight_cost_groups\n",
       "expensive     531\n",
       "reasonable    455\n",
       "Name: late, dtype: int64"
      ]
     },
     "execution_count": 52,
     "metadata": {},
     "output_type": "execute_result"
    }
   ],
   "source": [
    "ns"
   ]
  },
  {
   "cell_type": "markdown",
   "metadata": {},
   "source": [
    "#### Calulating the T-stats for the two groups Yes/No\n",
    "T test\n",
    "\n",
    " ----- When testing for differences between means, the test statistic is called 't' rather than 'z', and can be calculated using six numbers from the samples-----\n",
    " "
   ]
  },
  {
   "cell_type": "code",
   "execution_count": 50,
   "metadata": {},
   "outputs": [
    {
     "name": "stdout",
     "output_type": "stream",
     "text": [
      "-2.411826236645244\n"
     ]
    }
   ],
   "source": [
    "xbar_no = (late_shipments[late_shipments['late'] == \"No\"]['weight_kilograms']).mean()\n",
    "xbar_yes = (late_shipments[late_shipments['late'] == \"Yes\"]['weight_kilograms']).mean()\n",
    "s_no = np.std(late_shipments[late_shipments['late'] == \"No\"]['weight_kilograms'])\n",
    "s_yes = np.std(late_shipments[late_shipments['late'] == \"Yes\"]['weight_kilograms'])\n",
    "n_no = len(late_shipments[late_shipments['late'] == \"No\"])\n",
    "n_yes = len(late_shipments[late_shipments['late'] == \"Yes\"])\n",
    "\n",
    "numerator = xbar_no - xbar_yes\n",
    "denominator =  np.sqrt(s_no**2/n_no + s_yes**2/n_yes)\n",
    "\n",
    "# Calculate the test statistic\n",
    "t_stat = numerator/denominator\n",
    "\n",
    "# Print the test statistic\n",
    "print(t_stat)\n"
   ]
  },
  {
   "cell_type": "code",
   "execution_count": 48,
   "metadata": {},
   "outputs": [],
   "source": [
    "numerator = xbar_no - xbar_yes"
   ]
  },
  {
   "cell_type": "code",
   "execution_count": 49,
   "metadata": {},
   "outputs": [
    {
     "data": {
      "text/plain": [
       "353.17867206833523"
      ]
     },
     "execution_count": 49,
     "metadata": {},
     "output_type": "execute_result"
    }
   ],
   "source": [
    "denominator =  np.sqrt(s_no**2/n_no + s_yes**2/n_yes)"
   ]
  },
  {
   "cell_type": "code",
   "execution_count": 52,
   "metadata": {},
   "outputs": [
    {
     "name": "stdout",
     "output_type": "stream",
     "text": [
      "0.008026243633867782\n"
     ]
    }
   ],
   "source": [
    "degrees_of_freedom = n_yes + n_no -2 \n",
    "\n",
    "# Calculate the p-value from the test stat\n",
    "p_value = t.cdf(t_stat, df=degrees_of_freedom)\n",
    "\n",
    "# Print the p_value\n",
    "print(p_value)"
   ]
  },
  {
   "cell_type": "markdown",
   "metadata": {},
   "source": [
    "#### "
   ]
  },
  {
   "cell_type": "code",
   "execution_count": null,
   "metadata": {},
   "outputs": [],
   "source": [
    "# Select the weight_kilograms and late columns\n",
    "weight_vs_late = late_shipments[['weight_kilograms', 'late']]\n",
    "\n",
    "# Convert weight_vs_late into wide format\n",
    "weight_vs_late_wide = weight_vs_late.pivot(columns='late', \n",
    "                                           values='weight_kilograms')\n",
    "\n",
    "\n",
    "# Run a two-sided Wilcoxon-Mann-Whitney test on weight_kilograms vs. late\n",
    "wmw_test = pingouin.mwu(x=weight_vs_late_wide['No'], y=weight_vs_late_wide['Yes'], alternative='two-sided')\n",
    "\n",
    "\n",
    "\n",
    "# Print the test results\n",
    "print(wmw_test)\n",
    "\n",
    "# Run a Kruskal-Wallis test on weight_kilograms vs. shipment_mode\n",
    "kw_test = pingouin.kruskal(data=late_shipments, dv='weight_kilograms', between='shipment_mode')\n",
    "\n",
    "\n",
    "\n",
    "# Print the results\n",
    "print(kw_test)"
   ]
  },
  {
   "cell_type": "markdown",
   "metadata": {},
   "source": [
    "#### @ Paired T test"
   ]
  },
  {
   "cell_type": "markdown",
   "metadata": {},
   "source": []
  }
 ],
 "metadata": {
  "kernelspec": {
   "display_name": "anrin_year_1",
   "language": "python",
   "name": "python3"
  },
  "language_info": {
   "codemirror_mode": {
    "name": "ipython",
    "version": 3
   },
   "file_extension": ".py",
   "mimetype": "text/x-python",
   "name": "python",
   "nbconvert_exporter": "python",
   "pygments_lexer": "ipython3",
   "version": "3.10.4"
  }
 },
 "nbformat": 4,
 "nbformat_minor": 2
}
